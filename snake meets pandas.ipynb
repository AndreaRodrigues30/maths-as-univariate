{
 "cells": [
  {
   "cell_type": "code",
   "execution_count": 1,
   "metadata": {},
   "outputs": [
    {
     "data": {
      "text/plain": [
       "38"
      ]
     },
     "execution_count": 1,
     "metadata": {},
     "output_type": "execute_result"
    }
   ],
   "source": [
    "import random\n",
    "def snake_score():\n",
    "    rolls = 0\n",
    "    score = 0\n",
    "    while True:\n",
    "        # Roll them dice\n",
    "        a = random.randint(1,6)\n",
    "        b = random.randint(1,6)\n",
    "        # Got a 1?\n",
    "        if (a==1 or b==1) and rolls > 0:\n",
    "            # Return the score\n",
    "            return score\n",
    "        else:\n",
    "            # What's the new score\n",
    "            score += a+b\n",
    "            rolls += 1\n",
    "#Remember jupyter echoes the last value in a cell, so we don't need to bother printing\n",
    "snake_score()"
   ]
  },
  {
   "cell_type": "code",
   "execution_count": 2,
   "metadata": {},
   "outputs": [],
   "source": [
    "import pandas as pd\n",
    "import toyplot as tp\n",
    "import numpy as np"
   ]
  },
  {
   "cell_type": "code",
   "execution_count": 4,
   "metadata": {
    "scrolled": false
   },
   "outputs": [],
   "source": [
    "data = []\n",
    "for i in range(1000):\n",
    "    data.append(snake_score())"
   ]
  },
  {
   "cell_type": "markdown",
   "metadata": {},
   "source": [
    "We could have done this without the explicit loop, using Python's list comprehension syntax\n",
    "> `[snake_score() for _ in range(1000)]`"
   ]
  },
  {
   "cell_type": "markdown",
   "metadata": {},
   "source": [
    "Let's see the first five results"
   ]
  },
  {
   "cell_type": "code",
   "execution_count": 6,
   "metadata": {},
   "outputs": [
    {
     "data": {
      "text/plain": [
       "0    83\n",
       "1     5\n",
       "2    32\n",
       "3     6\n",
       "4    48\n",
       "dtype: int64"
      ]
     },
     "execution_count": 6,
     "metadata": {},
     "output_type": "execute_result"
    }
   ],
   "source": [
    "data_series = pd.Series(data)\n",
    "data_series.head(5)"
   ]
  },
  {
   "cell_type": "markdown",
   "metadata": {
    "hide_input": true
   },
   "source": [
    "### Task\n",
    "\n",
    "* Find the mean and median for your data\n",
    "* Are they similar? Different? What does this suggest?\n",
    "\n",
    "One possible snake strategy could be\n",
    "> Play it safe. Sit down when you reach a lower quartile score\n",
    "\n",
    "* Can you estimate the total score over five rounds obtained by using this strategy?\n",
    "* Explore and evaluate some other score-related strategies."
   ]
  }
 ],
 "metadata": {
  "kernelspec": {
   "display_name": "Python 3",
   "language": "python",
   "name": "python3"
  },
  "language_info": {
   "codemirror_mode": {
    "name": "ipython",
    "version": 3
   },
   "file_extension": ".py",
   "mimetype": "text/x-python",
   "name": "python",
   "nbconvert_exporter": "python",
   "pygments_lexer": "ipython3",
   "version": "3.5.2"
  }
 },
 "nbformat": 4,
 "nbformat_minor": 2
}
