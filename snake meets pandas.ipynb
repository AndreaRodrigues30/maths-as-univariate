{
 "cells": [
  {
   "cell_type": "code",
   "execution_count": 1,
   "metadata": {},
   "outputs": [
    {
     "data": {
      "text/plain": [
       "38"
      ]
     },
     "execution_count": 1,
     "metadata": {},
     "output_type": "execute_result"
    }
   ],
   "source": [
    "import random\n",
    "def snake_score():\n",
    "    rolls = 0\n",
    "    score = 0\n",
    "    while True:\n",
    "        # Roll them dice\n",
    "        a = random.randint(1,6)\n",
    "        b = random.randint(1,6)\n",
    "        # Got a 1?\n",
    "        if (a==1 or b==1) and rolls > 0:\n",
    "            # Return the score\n",
    "            return score\n",
    "        else:\n",
    "            # What's the new score\n",
    "            score += a+b\n",
    "            rolls += 1\n",
    "#Remember jupyter echoes the last value in a cell, so we don't need to bother printing\n",
    "snake_score()"
   ]
  }
 ],
 "metadata": {
  "kernelspec": {
   "display_name": "Python 3",
   "language": "python",
   "name": "python3"
  },
  "language_info": {
   "codemirror_mode": {
    "name": "ipython",
    "version": 3
   },
   "file_extension": ".py",
   "mimetype": "text/x-python",
   "name": "python",
   "nbconvert_exporter": "python",
   "pygments_lexer": "ipython3",
   "version": "3.5.2"
  }
 },
 "nbformat": 4,
 "nbformat_minor": 2
}
